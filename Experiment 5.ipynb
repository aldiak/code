{
 "cells": [
  {
   "cell_type": "markdown",
   "metadata": {},
   "source": [
    "Because of the fact that the absolute value function is not derivable at some point so that to turn the absolute value function in a derivable one we use sigmoid function."
   ]
  },
  {
   "cell_type": "code",
   "execution_count": 13,
   "metadata": {},
   "outputs": [],
   "source": [
    "import numpy as np\n",
    "import matplotlib.pyplot as plt"
   ]
  },
  {
   "cell_type": "code",
   "execution_count": 30,
   "metadata": {},
   "outputs": [],
   "source": [
    "#each point is length, width, type(0, 1)\n",
    "\n",
    "data = [[3, 1.5,  1],\n",
    "        [2, 1,    0],\n",
    "        [4, 1.5,  1],\n",
    "        [3, 1,    0],\n",
    "        [3.5, .5, 1],\n",
    "        [2,  .5,  0],\n",
    "        [5.5, 1,  1],\n",
    "        [1,  1,   0]]\n",
    "\n",
    "mystery = [4.5, 1]"
   ]
  },
  {
   "cell_type": "code",
   "execution_count": 29,
   "metadata": {},
   "outputs": [
    {
     "data": {
      "image/png": "[encoded data removed]",
      "text/plain": [
       "<Figure size 432x288 with 1 Axes>"
      ]
     },
     "metadata": {
      "needs_background": "light"
     },
     "output_type": "display_data"
    }
   ],
   "source": [
    "#scatter data\n",
    "plt.axis([0, 6, 0, 6])\n",
    "\n",
    "for i in range(len(data)):\n",
    "    point = data[i]\n",
    "    color = \"r\"\n",
    "    if point[2] == 0:\n",
    "        color = \"b\"\n",
    "    plt.scatter(point[0], point[1], c=color)"
   ]
  },
  {
   "cell_type": "code",
   "execution_count": 15,
   "metadata": {},
   "outputs": [],
   "source": [
    "def sigmoid(x):\n",
    "    return 1/(1 + np.exp(-x))\n",
    "\n",
    "def sigmoid_deri(x):\n",
    "    return sigmoid(x) * (1 - sigmoid(x))"
   ]
  },
  {
   "cell_type": "code",
   "execution_count": 16,
   "metadata": {},
   "outputs": [
    {
     "data": {
      "text/plain": [
       "[<matplotlib.lines.Line2D at 0x190faa5a518>]"
      ]
     },
     "execution_count": 16,
     "metadata": {},
     "output_type": "execute_result"
    },
    {
     "data": {
      "image/png": "[encoded data removed]",
      "text/plain": [
       "<Figure size 432x288 with 1 Axes>"
      ]
     },
     "metadata": {
      "needs_background": "light"
     },
     "output_type": "display_data"
    }
   ],
   "source": [
    "T = np.linspace(-20, 20, 200)\n",
    "plt.plot(T, sigmoid(T), c='r')\n",
    "plt.plot(T, sigmoid_deri(T), c='b')"
   ]
  },
  {
   "cell_type": "code",
   "execution_count": 31,
   "metadata": {},
   "outputs": [
    {
     "data": {
      "text/plain": [
       "[<matplotlib.lines.Line2D at 0x190fad9c278>]"
      ]
     },
     "execution_count": 31,
     "metadata": {},
     "output_type": "execute_result"
    },
    {
     "data": {
      "image/png": "[encoded data removed]",
      "text/plain": [
       "<Figure size 432x288 with 1 Axes>"
      ]
     },
     "metadata": {
      "needs_background": "light"
     },
     "output_type": "display_data"
    }
   ],
   "source": [
    "#training loop\n",
    "\n",
    "learning_rate = 0.2\n",
    "costs = []    # keep track of the cost\n",
    "\n",
    "w1 = np.random.randn()\n",
    "w2 = np.random.randn()\n",
    "b = np.random.randn()\n",
    "\n",
    "for i in range(50000):\n",
    "    ri = np.random.randint(len(data))\n",
    "    point = data[ri]\n",
    "    z = point[0] * w1 + point[1] * w2 +b\n",
    "    pred = sigmoid(z)\n",
    "    \n",
    "    \n",
    "    target = point[2]\n",
    "    cost = np.square(pred - target)\n",
    "    \n",
    "   \n",
    "    \n",
    "    dcost_pred = 2 * (pred - target)\n",
    "    dpred_dz = sigmoid_deri(z)\n",
    "    \n",
    "    dz_dw1 = point[0]\n",
    "    dz_dw2 = point[1]\n",
    "    dz_db = 1\n",
    "    \n",
    "    dcost_dz = dcost_pred * dpred_dz\n",
    "    dcost_dw1 = dcost_dz * dz_dw1\n",
    "    dcost_dw2 = dcost_dz * dz_dw2\n",
    "    dcost_db = dcost_dz * dz_db\n",
    "        \n",
    "    w1 = w1 - learning_rate * dcost_dw1    \n",
    "    w2 = w2 - learning_rate * dcost_dw2 \n",
    "    b = b - learning_rate * dcost_db \n",
    "    \n",
    "    if i % 100 == 0:\n",
    "        cost_sum = 0\n",
    "        for j in range(len(data)):\n",
    "            point = data[ri]\n",
    "            \n",
    "            z = point[0] * w1 + point[1] * w2 +b\n",
    "            pred = sigmoid(z)\n",
    "            \n",
    "            target = point[2]\n",
    "            cost_sum += np.square(pred - target)\n",
    "            \n",
    "        costs.append(cost_sum/len(data))\n",
    "        \n",
    "    \n",
    "plt.plot(costs)"
   ]
  },
  {
   "cell_type": "code",
   "execution_count": 32,
   "metadata": {},
   "outputs": [
    {
     "name": "stdout",
     "output_type": "stream",
     "text": [
      "[2, 1, 0]\n",
      "pred: 0.012447910007009684\n",
      "[4, 1.5, 1]\n",
      "pred: 0.983909294171236\n",
      "[3.5, 0.5, 1]\n",
      "pred: 0.9778325724952325\n",
      "[2, 0.5, 0]\n",
      "pred: 0.033965045015978\n",
      "[5.5, 1, 1]\n",
      "pred: 0.9999953268983607\n",
      "[1, 1, 0]\n",
      "pred: 0.0001083468120401737\n"
     ]
    }
   ],
   "source": [
    "#visualise model predictions\n",
    "\n",
    "for i in range(len(data)):\n",
    "    point = data[i]\n",
    "    print(point)\n",
    "    z = point[0] * w1 + point[1] * w2 +b\n",
    "    pred = sigmoid(z)\n",
    "    print(\"pred: {}\".format(pred))"
   ]
  },
  {
   "cell_type": "code",
   "execution_count": 33,
   "metadata": {},
   "outputs": [
    {
     "data": {
      "text/plain": [
       "0.9994566940380918"
      ]
     },
     "execution_count": 33,
     "metadata": {},
     "output_type": "execute_result"
    }
   ],
   "source": [
    "z = mystery[0] * w1 + mystery[1] * w2 +b\n",
    "pred = sigmoid(z)\n",
    "pred"
   ]
  },
  {
   "cell_type": "code",
   "execution_count": null,
   "metadata": {},
   "outputs": [],
   "source": []
  }
 ],
 "metadata": {
  "kernelspec": {
   "display_name": "Python 3",
   "language": "python",
   "name": "python3"
  },
  "language_info": {
   "codemirror_mode": {
    "name": "ipython",
    "version": 3
   },
   "file_extension": ".py",
   "mimetype": "text/x-python",
   "name": "python",
   "nbconvert_exporter": "python",
   "pygments_lexer": "ipython3",
   "version": "3.6.9"
  }
 },
 "nbformat": 4,
 "nbformat_minor": 2
}
