{
 "cells": [
  {
   "cell_type": "code",
   "execution_count": 2,
   "metadata": {},
   "outputs": [
    {
     "name": "stderr",
     "output_type": "stream",
     "text": [
      "Using Theano backend.\n"
     ]
    }
   ],
   "source": [
    "import time\n",
    "import numpy as np\n",
    "import h5py\n",
    "import matplotlib.pyplot as plt\n",
    "import scipy\n",
    "from PIL import Image\n",
    "from scipy import ndimage\n",
    "from dnn_app_utils_v3 import *\n",
    "from keras.utils import to_categorical\n",
    "\n",
    "%matplotlib inline\n",
    "plt.rcParams['figure.figsize'] = (5.0, 4.0) # set default size of plots\n",
    "plt.rcParams['image.interpolation'] = 'nearest'\n",
    "plt.rcParams['image.cmap'] = 'gray'\n",
    "\n",
    "%load_ext autoreload\n",
    "%autoreload 2\n",
    "\n",
    "np.random.seed(1)"
   ]
  },
  {
   "cell_type": "markdown",
   "metadata": {},
   "source": [
    "Load the dataset by splitting it into (X_train_orig, Y_train_orig), (X_test_orig, Y_test_orig). We have used ‘orig’ because later we need to process the data for which we’ll then later assign the simpler (x_train, y_train), (x_test, y_test)."
   ]
  },
  {
   "cell_type": "code",
   "execution_count": 9,
   "metadata": {},
   "outputs": [],
   "source": [
    "from keras.datasets import mnist\n",
    "\n",
    "(X_train_orig, Y_train_orig), (X_test_orig, Y_test_orig) = mnist.load_data()\n"
   ]
  },
  {
   "cell_type": "code",
   "execution_count": 10,
   "metadata": {},
   "outputs": [
    {
     "data": {
      "text/plain": [
       "<matplotlib.image.AxesImage at 0x22f9e5abc18>"
      ]
     },
     "execution_count": 10,
     "metadata": {},
     "output_type": "execute_result"
    },
    {
     "data": {
      "image/png": "[encoded data removed]",
      "text/plain": [
       "<Figure size 432x288 with 1 Axes>"
      ]
     },
     "metadata": {
      "needs_background": "light"
     },
     "output_type": "display_data"
    }
   ],
   "source": [
    "# Example of a picture\n",
    "index = 10\n",
    "plt.imshow(X_train_orig[index])\n"
   ]
  },
  {
   "cell_type": "markdown",
   "metadata": {},
   "source": [
    "Processing the data for y labels. We first reshape the original y_train and y_test into (60000, 1) and (10000, 1) respectively, because by default the Tensorflow dataset has this weird shape of (60000,) and (10000,). Then we use ‘to_categorical’ function to One Hot Encode them to 10 classes by passing the argument ‘num_classes=10’. Then the data is transposed to give us y_train and y_test."
   ]
  },
  {
   "cell_type": "code",
   "execution_count": 11,
   "metadata": {},
   "outputs": [],
   "source": [
    "Y_tr_resh = Y_train_orig.reshape(60000, 1)\n",
    "Y_te_resh =  Y_test_orig.reshape(10000, 1)\n",
    "Y_tr_T = to_categorical(Y_tr_resh, num_classes=10)\n",
    "Y_te_T = to_categorical(Y_te_resh, num_classes=10)\n",
    "y_train = Y_tr_T.T\n",
    "y_test = Y_te_T.T"
   ]
  },
  {
   "cell_type": "markdown",
   "metadata": {},
   "source": [
    "Processing the data for x pixel intensity input values. Originally the x train and test set have this format for their shape which is (60000, 28, 28) and (10000, 28, 28) wherein each image is 28 by 28 pixels in size. To apply the concept of Deep Learning here, we need to ROLL out that 28 by 28 pixels square into a horizontal line containing the same pixels, i.e in total 28*28 = 784 pixels. This process is known as FLATTENING the image. Later we divide both the train and test set by 255. to normalize the pixel intensity values between 0 and 1 for further calculations to give us x_train and x_test."
   ]
  },
  {
   "cell_type": "code",
   "execution_count": 13,
   "metadata": {},
   "outputs": [],
   "source": [
    "#Some preprocessing step\n",
    "X_train_flatten = X_train_orig.reshape(X_train_orig.shape[0], -1).T\n",
    "X_test_flatten = X_test_orig.reshape(X_test_orig.shape[0], -1).T\n",
    "x_train = X_train_flatten / 255.\n",
    "x_test = X_test_flatten / 255."
   ]
  },
  {
   "cell_type": "markdown",
   "metadata": {},
   "source": [
    "Define the Activation Functions. Here we’ll use Relu for the hidden layer activations and Sigmoid for the output layer activations."
   ]
  },
  {
   "cell_type": "code",
   "execution_count": 14,
   "metadata": {},
   "outputs": [],
   "source": [
    "#Activation functions\n",
    "\n",
    "def sigmoid(Z):\n",
    "\n",
    "    S = 1 / (1 + np.exp(-Z))\n",
    "\n",
    "    return S\n",
    "\n",
    "def relu(p):\n",
    "    return np.maximum(0, p)\n",
    "\n",
    "def softmax(u):\n",
    "    return np.exp(u) / np.sum(np.exp(u), axis=0, keepdims=True)"
   ]
  },
  {
   "cell_type": "markdown",
   "metadata": {},
   "source": [
    "Initialise the Weights and Biases for each of the layers. We use a ‘for loop’ to do that and simplify our work and feed in the array with the total number of units in each layer (including the input layer). We initialize the weights randomly and initialize the biases to zeros."
   ]
  },
  {
   "cell_type": "code",
   "execution_count": 15,
   "metadata": {},
   "outputs": [],
   "source": [
    "parameters = {}\n",
    "def initialize_parameters(layer_dims):\n",
    "    L = len(layer_dims)\n",
    "    for l in range(1, L):\n",
    "        parameters[\"W\" + str(l)] = np.random.randn(layer_dims[l], layer_dims[l - 1]) * (np.sqrt(2 / layer_dims[l - 1]))\n",
    "        parameters[\"b\" + str(l)] = np.zeros((layer_dims[l], 1))\n",
    "    return parameters"
   ]
  },
  {
   "cell_type": "code",
   "execution_count": 16,
   "metadata": {},
   "outputs": [],
   "source": [
    "#Forward Propagation\n",
    "\n",
    "outputs = {}\n",
    "activation = {}\n",
    "def forward_prop(parameters, x_train, activation):\n",
    "    m = x_train.shape[1]\n",
    "    outputs[\"Z\" + str(1)] = np.dot(parameters[\"W1\"], x_train) + parameters[\"b1\"]\n",
    "    activation[\"A\" + str(1)] = relu(outputs[\"Z\" + str(1)])\n",
    "    for l in range(2, 4):\n",
    "        outputs[\"Z\" + str(l)] = np.dot(parameters[\"W\" + str(l)], activation[\"A\" + str(l - 1)]) + parameters[\"b\" + str(l)]\n",
    "        activation[\"A\" + str(l)] = relu(outputs[\"Z\" + str(l)])\n",
    "    outputs[\"Z4\"] = np.dot(parameters[\"W4\"], activation[\"A3\"]) + parameters[\"b4\"]\n",
    "    activation[\"A4\"] = sigmoid(outputs[\"Z4\"])\n",
    "    return outputs, activation"
   ]
  },
  {
   "cell_type": "code",
   "execution_count": 17,
   "metadata": {},
   "outputs": [],
   "source": [
    "#Compute the Cost using the cross entropy loss.\n",
    "\n",
    "def compute_cost(activation):\n",
    "    loss = - np.sum((y_train * np.log(activation[\"A4\"])), axis=0, keepdims=True)\n",
    "    cost = np.sum(loss, axis=1) / m\n",
    "    return cost"
   ]
  },
  {
   "cell_type": "code",
   "execution_count": 18,
   "metadata": {},
   "outputs": [],
   "source": [
    "#Define a function to calculate the derivative of the Relu activation function\n",
    "\n",
    "def drelu(x):\n",
    "    x[x <= 0] = 0\n",
    "    x[x > 0] = 1\n",
    "    return x"
   ]
  },
  {
   "cell_type": "code",
   "execution_count": 19,
   "metadata": {},
   "outputs": [],
   "source": [
    "#Compute the gradients of the Loss w.r.t the Weights and the Biases\n",
    "\n",
    "grad_reg = {}\n",
    "m = x_train.shape[1]\n",
    "def grad_re(parameters, outputs, activation):\n",
    "    grad_reg[\"dZ4\"] = (activation[\"A4\"] - y_train) / m\n",
    "    for l in range(1, 4):\n",
    "        grad_reg[\"dA\" + str(4 - l)] = np.dot(parameters[\"W\" + str(4 - l + 1)].T, grad_reg[\"dZ\" + str(4 - l + 1)])\n",
    "        grad_reg[\"dZ\" + str(4 - l)] = grad_reg[\"dA\" + str(4 - l)] * drelu(outputs[\"Z\" + str(4 - l)])\n",
    "    grad_reg[\"dW1\"] = np.dot(grad_reg[\"dZ1\"], x_train.T)\n",
    "    grad_reg[\"db1\"] = np.sum(grad_reg[\"dZ1\"], axis=1, keepdims=True)\n",
    "    for l in range(2, 5):\n",
    "        grad_reg[\"dW\" + str(l)] = np.dot(grad_reg[\"dZ\" + str(l)], activation[\"A\" + str(l - 1)].T)\n",
    "        grad_reg[\"db\" + str(l)] = np.sum(grad_reg[\"dZ\" + str(l)], axis=1, keepdims=True)\n",
    "    return parameters, outputs, activation, grad_reg"
   ]
  },
  {
   "cell_type": "markdown",
   "metadata": {},
   "source": [
    "Update the parameters using gradient descent algorithm in which you minimize the Cost function with the parameters."
   ]
  },
  {
   "cell_type": "code",
   "execution_count": 20,
   "metadata": {},
   "outputs": [],
   "source": [
    "def learning(grad_reg, learning_rate=0.005):\n",
    "    for i in range(1, 5):\n",
    "        parameters[\"W\" + str(i)] = parameters[\"W\" + str(i)] - (learning_rate * grad_reg[\"dW\" + str(i)])\n",
    "        parameters[\"b\" + str(i)] = parameters[\"b\" + str(i)] - (learning_rate * grad_reg[\"db\" + str(i)])\n",
    "    return parameters"
   ]
  },
  {
   "cell_type": "markdown",
   "metadata": {},
   "source": [
    "Put together all these above functions into another function which is the model we’ll be executing for the final computations."
   ]
  },
  {
   "cell_type": "code",
   "execution_count": 21,
   "metadata": {},
   "outputs": [],
   "source": [
    "num_iterations = 1000\n",
    "print_cost = True\n",
    "costs = []\n",
    "def grad_descent(num_iterations, costs, activation):\n",
    "    initialize_parameters([x_train.shape[0], 50, 50, 50, 10])\n",
    "    for l in range(0, num_iterations):\n",
    "        forward_prop(parameters, x_train, activation)\n",
    "        cost = compute_cost(activation)\n",
    "        grad_re(parameters, outputs, activation)\n",
    "        learning(grad_reg, learning_rate=0.005)\n",
    "        if l % 100 == 0:\n",
    "            costs.append(cost)\n",
    "        if print_cost and l % 100 == 0:\n",
    "            print(\"Cost after iteration %i: %f\" % (l, cost))\n",
    "    return costs, parameters"
   ]
  },
  {
   "cell_type": "code",
   "execution_count": 22,
   "metadata": {},
   "outputs": [
    {
     "name": "stdout",
     "output_type": "stream",
     "text": [
      "Cost after iteration 0: 0.675536\n",
      "Cost after iteration 100: 2.102219\n",
      "Cost after iteration 200: 1.859564\n",
      "Cost after iteration 300: 1.611932\n",
      "Cost after iteration 400: 1.369929\n",
      "Cost after iteration 500: 1.171678\n",
      "Cost after iteration 600: 1.018478\n",
      "Cost after iteration 700: 0.902558\n",
      "Cost after iteration 800: 0.819220\n",
      "Cost after iteration 900: 0.757909\n"
     ]
    },
    {
     "data": {
      "text/plain": [
       "([array([0.67553647]),\n",
       "  array([2.10221928]),\n",
       "  array([1.8595642]),\n",
       "  array([1.61193236]),\n",
       "  array([1.36992932]),\n",
       "  array([1.17167823]),\n",
       "  array([1.01847817]),\n",
       "  array([0.90255827]),\n",
       "  array([0.81922012]),\n",
       "  array([0.75790898])],\n",
       " {'W1': array([[ 0.08204183, -0.03089836, -0.0266767 , ..., -0.05589038,\n",
       "          -0.01814356,  0.02552564],\n",
       "         [ 0.06151531, -0.09801919, -0.04071815, ...,  0.01046669,\n",
       "          -0.07242949,  0.03166355],\n",
       "         [ 0.01514346, -0.09377455, -0.10864409, ..., -0.09870159,\n",
       "           0.00940572, -0.00019344],\n",
       "         ...,\n",
       "         [-0.0267129 , -0.01666229,  0.00691156, ..., -0.00192238,\n",
       "           0.02148839,  0.04283342],\n",
       "         [-0.00016318, -0.04076022, -0.04117455, ..., -0.00455056,\n",
       "           0.00381343, -0.04118358],\n",
       "         [-0.01885479, -0.07444361,  0.07527455, ...,  0.03078283,\n",
       "          -0.00090665,  0.04368365]]), 'b1': array([[-0.01268817],\n",
       "         [ 0.12163693],\n",
       "         [-0.02830633],\n",
       "         [-0.01604588],\n",
       "         [ 0.01505161],\n",
       "         [ 0.00720358],\n",
       "         [ 0.11799755],\n",
       "         [-0.00839294],\n",
       "         [-0.03133852],\n",
       "         [-0.01083443],\n",
       "         [ 0.04897073],\n",
       "         [ 0.00457519],\n",
       "         [-0.00531075],\n",
       "         [ 0.02770052],\n",
       "         [-0.01036116],\n",
       "         [ 0.05637228],\n",
       "         [-0.00142022],\n",
       "         [ 0.03022004],\n",
       "         [ 0.0137602 ],\n",
       "         [ 0.01708066],\n",
       "         [-0.02662065],\n",
       "         [ 0.02848706],\n",
       "         [-0.02106577],\n",
       "         [-0.01973622],\n",
       "         [ 0.21450324],\n",
       "         [ 0.02952288],\n",
       "         [ 0.00087174],\n",
       "         [-0.00954381],\n",
       "         [ 0.11104764],\n",
       "         [ 0.09436286],\n",
       "         [ 0.05690335],\n",
       "         [ 0.04297388],\n",
       "         [ 0.10944443],\n",
       "         [-0.02239452],\n",
       "         [ 0.04641504],\n",
       "         [-0.01867224],\n",
       "         [-0.00389824],\n",
       "         [ 0.00750291],\n",
       "         [ 0.01044853],\n",
       "         [-0.02217447],\n",
       "         [ 0.04176678],\n",
       "         [ 0.07139392],\n",
       "         [ 0.08409739],\n",
       "         [-0.00254711],\n",
       "         [ 0.04460282],\n",
       "         [ 0.03938606],\n",
       "         [ 0.06061057],\n",
       "         [-0.00857192],\n",
       "         [ 0.00844067],\n",
       "         [ 0.00566194]]), 'W2': array([[ 0.22855561,  0.21905732, -0.01368794, ..., -0.17397889,\n",
       "          -0.04546532,  0.04568882],\n",
       "         [-0.0727416 , -0.33188997,  0.03978796, ..., -0.16015459,\n",
       "          -0.22235408,  0.02173065],\n",
       "         [ 0.19016202, -0.282191  , -0.23110793, ..., -0.11476402,\n",
       "          -0.19127408, -0.40689631],\n",
       "         ...,\n",
       "         [-0.08619006,  0.10001347, -0.12431318, ..., -0.0010647 ,\n",
       "          -0.06664223, -0.22542805],\n",
       "         [-0.28283203, -0.10989014,  0.37602904, ..., -0.18861306,\n",
       "           0.1572748 , -0.13204222],\n",
       "         [ 0.42142188, -0.19612736, -0.01604149, ...,  0.2341882 ,\n",
       "          -0.03090195,  0.0165058 ]]), 'b2': array([[ 3.90846576e-02],\n",
       "         [-4.95077658e-04],\n",
       "         [-7.67880401e-03],\n",
       "         [-1.70312445e-02],\n",
       "         [ 5.53355364e-04],\n",
       "         [-9.38075847e-03],\n",
       "         [ 9.14347778e-02],\n",
       "         [-1.05175833e-02],\n",
       "         [-6.10527520e-04],\n",
       "         [-2.40539255e-03],\n",
       "         [ 3.15874311e-02],\n",
       "         [ 8.01155412e-02],\n",
       "         [ 4.14205941e-02],\n",
       "         [ 7.58898831e-02],\n",
       "         [ 9.05556070e-02],\n",
       "         [-1.75019986e-02],\n",
       "         [ 1.68877850e-02],\n",
       "         [ 6.36983945e-03],\n",
       "         [ 1.88859978e-03],\n",
       "         [-1.80212415e-02],\n",
       "         [-1.68440139e-02],\n",
       "         [ 1.41133229e-02],\n",
       "         [ 1.32853737e-02],\n",
       "         [ 3.55690498e-03],\n",
       "         [-1.15465994e-02],\n",
       "         [-4.98025811e-02],\n",
       "         [-4.72355438e-02],\n",
       "         [ 1.21204321e-04],\n",
       "         [ 1.26124494e-02],\n",
       "         [ 1.83533438e-03],\n",
       "         [-1.83228791e-02],\n",
       "         [-7.07634052e-03],\n",
       "         [ 5.00895963e-02],\n",
       "         [ 3.29376197e-02],\n",
       "         [ 2.61131651e-02],\n",
       "         [-1.55729358e-03],\n",
       "         [ 1.92127498e-02],\n",
       "         [ 5.56549238e-02],\n",
       "         [ 1.29848362e-01],\n",
       "         [-2.76578307e-03],\n",
       "         [ 4.15320995e-02],\n",
       "         [ 2.05320323e-03],\n",
       "         [-5.75530148e-03],\n",
       "         [-6.11962686e-03],\n",
       "         [ 7.16062151e-02],\n",
       "         [ 2.16129520e-02],\n",
       "         [-8.09692636e-03],\n",
       "         [ 7.57221818e-03],\n",
       "         [ 1.37645847e-04],\n",
       "         [-2.33976372e-05]]), 'W3': array([[-0.16312372,  0.20101451, -0.18521454, ..., -0.07872447,\n",
       "          -0.44410512, -0.06452675],\n",
       "         [-0.39898153,  0.23791292, -0.02507352, ..., -0.02931111,\n",
       "           0.11250937,  0.06365531],\n",
       "         [-0.17818274,  0.30248229,  0.04297303, ..., -0.39030506,\n",
       "           0.05689736,  0.01797835],\n",
       "         ...,\n",
       "         [ 0.27331598,  0.23341571,  0.15295013, ..., -0.00405614,\n",
       "           0.44508772,  0.26458747],\n",
       "         [ 0.01955632, -0.268932  , -0.41264723, ..., -0.17096269,\n",
       "           0.33872902,  0.04637251],\n",
       "         [ 0.35380853, -0.00922658,  0.03725313, ...,  0.26066927,\n",
       "          -0.0033328 , -0.18115939]]), 'b3': array([[ 5.83454284e-02],\n",
       "         [ 5.71809057e-02],\n",
       "         [-9.50714351e-04],\n",
       "         [ 2.55666675e-02],\n",
       "         [ 4.23975573e-02],\n",
       "         [-9.26406485e-03],\n",
       "         [-3.12944250e-02],\n",
       "         [ 1.46485133e-02],\n",
       "         [ 2.71350152e-02],\n",
       "         [-2.38257580e-02],\n",
       "         [-5.05723860e-03],\n",
       "         [-5.40501772e-03],\n",
       "         [ 5.37359906e-02],\n",
       "         [ 2.67652364e-03],\n",
       "         [-1.93846277e-02],\n",
       "         [-1.26154119e-02],\n",
       "         [-2.26105625e-02],\n",
       "         [ 1.01447912e-01],\n",
       "         [ 1.73052489e-02],\n",
       "         [ 1.86655301e-02],\n",
       "         [-7.23928832e-03],\n",
       "         [-8.18263916e-02],\n",
       "         [ 2.66044287e-02],\n",
       "         [-1.41632564e-02],\n",
       "         [ 8.28768234e-02],\n",
       "         [-8.25726437e-02],\n",
       "         [ 5.74510676e-05],\n",
       "         [-4.81120202e-03],\n",
       "         [-7.88724723e-03],\n",
       "         [-1.63810249e-02],\n",
       "         [-5.79282640e-04],\n",
       "         [ 8.20292443e-02],\n",
       "         [-6.24703686e-02],\n",
       "         [-1.05732405e-03],\n",
       "         [ 1.04295985e-02],\n",
       "         [-1.41517168e-02],\n",
       "         [ 8.59348682e-04],\n",
       "         [-4.00553527e-02],\n",
       "         [-1.12579661e-03],\n",
       "         [ 1.95190437e-02],\n",
       "         [-4.12234594e-02],\n",
       "         [-1.27773056e-03],\n",
       "         [ 2.89392084e-02],\n",
       "         [ 1.07930935e-02],\n",
       "         [-2.75126749e-02],\n",
       "         [-3.01098619e-02],\n",
       "         [ 1.54174977e-02],\n",
       "         [ 2.47306571e-04],\n",
       "         [ 8.85679309e-02],\n",
       "         [ 1.36295511e-01]]), 'W4': array([[ 0.08886827,  0.26061761,  0.06677958, -0.07844194,  0.02981775,\n",
       "          -0.22973743, -0.01769829, -0.07168979, -0.11558328,  0.22871457,\n",
       "           0.22232668,  0.35720165,  0.04291651, -0.14922229,  0.45673512,\n",
       "          -0.01598472,  0.4883521 , -0.30492362, -0.37364057, -0.0639496 ,\n",
       "          -0.16989933,  0.1318515 ,  0.17288201, -0.14384908,  0.04514094,\n",
       "          -0.20198294, -0.42331412, -0.13481538, -0.01034547,  0.08044955,\n",
       "           0.19316156, -0.37283708,  0.06004872,  0.2948317 ,  0.33594362,\n",
       "          -0.1095013 , -0.01109634, -0.12749376, -0.03008614, -0.14067292,\n",
       "          -0.29485352,  0.11603   ,  0.15349935, -0.43085856,  0.05329911,\n",
       "           0.11592058, -0.24607457, -0.00351609, -0.1543759 , -0.35183395],\n",
       "         [-0.09930935, -0.45274206, -0.10522219, -0.12846303,  0.30948969,\n",
       "           0.106734  , -0.10440962, -0.05883323, -0.40062202, -0.32813359,\n",
       "           0.22529731,  0.44053493,  0.16552752, -0.34841539, -0.08820145,\n",
       "           0.17359891, -0.30838102, -0.36965238, -0.47462203,  0.02552337,\n",
       "          -0.12592824,  0.1833901 ,  0.10308288,  0.04934849, -0.07355022,\n",
       "          -0.18998159,  0.36640156,  0.37197399, -0.15197169, -0.11960666,\n",
       "           0.07798061, -0.22028678, -0.03767607, -0.14015847, -0.09442399,\n",
       "           0.09738502, -0.29865647, -0.35407316,  0.14895396, -0.28870343,\n",
       "           0.21319235,  0.15928913,  0.00902799,  0.06997697, -0.15272148,\n",
       "           0.13972088, -0.27888656, -0.26931079,  0.23976014, -0.12900619],\n",
       "         [-0.33596855, -0.32362029,  0.02423567,  0.20991842, -0.14259176,\n",
       "          -0.10770376,  0.2724918 , -0.18535551, -0.41397309,  0.01717007,\n",
       "           0.00127408,  0.07004667, -0.22252933,  0.13458556,  0.12637496,\n",
       "          -0.14309207,  0.24505905, -0.35114633,  0.1631395 , -0.20652463,\n",
       "           0.38135326,  0.28125566,  0.13705188, -0.12390327,  0.11341955,\n",
       "           0.08992958, -0.05212241, -0.09128596,  0.17508306, -0.07759682,\n",
       "           0.51171431, -0.10571352,  0.10283745,  0.04244662,  0.07740424,\n",
       "           0.12343816, -0.13009808,  0.34375512,  0.11986272,  0.09133165,\n",
       "           0.23501059, -0.11241808, -0.03211251, -0.19807972, -0.12985999,\n",
       "           0.26809479,  0.02049454,  0.01007754, -0.07817006, -0.28556569],\n",
       "         [ 0.09164706, -0.27584233,  0.51887543, -0.39055637,  0.12913271,\n",
       "          -0.08068379, -0.06067795,  0.0399313 , -0.19814461, -0.03753956,\n",
       "          -0.07011561, -0.20177523, -0.14964335, -0.25701387,  0.58729387,\n",
       "           0.06166384, -0.16725805, -0.0114647 ,  0.15085696,  0.26315507,\n",
       "           0.21520411, -0.02822027, -0.4367803 ,  0.10299494, -0.25177994,\n",
       "          -0.01062103, -0.42814549, -0.00741564,  0.05883124, -0.15694795,\n",
       "          -0.07372366, -0.04614657, -0.01596763,  0.0281285 , -0.03635755,\n",
       "           0.38658588, -0.00360295,  0.13619363, -0.50738264, -0.16293788,\n",
       "           0.22638155, -0.04013288, -0.06799816, -0.00633825,  0.43279649,\n",
       "          -0.19653581, -0.08500546,  0.129134  , -0.12915262, -0.15816224],\n",
       "         [ 0.00911613,  0.25549634, -0.00710786,  0.26054581, -0.25108189,\n",
       "          -0.05184257, -0.06975936, -0.06971502,  0.17933615,  0.2999657 ,\n",
       "          -0.22284066, -0.05726796, -0.4273522 ,  0.29290146, -0.18913507,\n",
       "          -0.17944254, -0.32069343,  0.18934695, -0.23290545,  0.0447376 ,\n",
       "           0.17443015, -0.0436089 ,  0.42978921,  0.0951585 , -0.30110414,\n",
       "           0.23617961,  0.27470799,  0.28585558,  0.15636297, -0.22047631,\n",
       "           0.10119547, -0.02151221,  0.18367253,  0.06681323, -0.24763797,\n",
       "           0.08755193,  0.03286759,  0.03145762,  0.03995361,  0.13552081,\n",
       "          -0.3837987 ,  0.00431504,  0.27908528,  0.24972914,  0.06090965,\n",
       "          -0.39177654,  0.11772776, -0.07453852, -0.31706453, -0.28593773],\n",
       "         [-0.01058021, -0.0738716 ,  0.12799369, -0.25930503, -0.48527789,\n",
       "          -0.33028041,  0.2776227 , -0.25077447,  0.08268317, -0.26372249,\n",
       "           0.11711943,  0.30066578, -0.02351821, -0.09372443,  0.12566516,\n",
       "           0.02096336,  0.00148136,  0.28022093,  0.1200699 , -0.4518039 ,\n",
       "          -0.00829932,  0.45798856, -0.12162131,  0.31693524, -0.30396937,\n",
       "          -0.07098388,  0.19579858, -0.20027375,  0.36348836,  0.22187647,\n",
       "           0.23594435,  0.18389544,  0.18666589, -0.13428433, -0.26489998,\n",
       "          -0.24414776,  0.13834624,  0.15321363,  0.21841585,  0.09487432,\n",
       "           0.08048337, -0.16955671, -0.03080547, -0.09831522, -0.21701152,\n",
       "          -0.10025861,  0.19332968, -0.01846223, -0.19187286, -0.04270632],\n",
       "         [-0.25447837, -0.39360509,  0.22673045,  0.08348698, -0.19238454,\n",
       "           0.08660755, -0.00149599,  0.27448238,  0.09972478,  0.14601784,\n",
       "          -0.11124496,  0.29901563, -0.13564817, -0.22431703,  0.48533828,\n",
       "           0.01491711,  0.22109366, -0.34263576,  0.04129208, -0.25720987,\n",
       "          -0.0383729 , -0.08179927,  0.23110861,  0.11571319,  0.0847963 ,\n",
       "          -0.047404  , -0.23661111,  0.04231465, -0.00918857,  0.69754169,\n",
       "          -0.18263805,  0.08656679,  0.00549166, -0.01442717, -0.07334406,\n",
       "          -0.22260772,  0.45851246,  0.09564518,  0.20300858,  0.43771472,\n",
       "          -0.4906168 ,  0.05604434,  0.17207128,  0.55551262,  0.18895674,\n",
       "          -0.18098341, -0.39650705, -0.09162934,  0.20749698, -0.7047492 ],\n",
       "         [ 0.04818386,  0.02727984, -0.21287792, -0.4011958 , -0.26375863,\n",
       "          -0.15898501, -0.05759242,  0.09903452, -0.04743188,  0.12819042,\n",
       "          -0.04844824, -0.00460969,  0.18167322, -0.19294783, -0.39666069,\n",
       "           0.07999822, -0.2318406 ,  0.17764098,  0.01358069, -0.25341705,\n",
       "           0.01488765,  0.1242962 , -0.10246317, -0.10307357, -0.44903656,\n",
       "           0.04717591, -0.21339336,  0.12337936,  0.00639012,  0.34624485,\n",
       "          -0.25611648, -0.16932957, -0.38576316,  0.13469176,  0.2425054 ,\n",
       "           0.27602251, -0.16843757, -0.13427148, -0.02328913, -0.05891524,\n",
       "           0.03015653, -0.19937931,  0.37902007, -0.48433997, -0.24123639,\n",
       "           0.55468242,  0.08572415,  0.0097948 ,  0.05593386, -0.15469052],\n",
       "         [-0.35102871, -0.03734816, -0.28320831, -0.01121427, -0.19258471,\n",
       "           0.00751527,  0.02256419, -0.05849889, -0.39777681, -0.07516554,\n",
       "           0.15971407,  0.14774871, -0.06871688,  0.06583356, -0.48214722,\n",
       "          -0.02860483,  0.11994854, -0.15079639, -0.16857473, -0.14048823,\n",
       "          -0.0588639 ,  0.2364738 , -0.17511666, -0.20288732, -0.05666665,\n",
       "           0.37648491, -0.44697572, -0.01626648,  0.16692715,  0.37210422,\n",
       "           0.39145023, -0.46559832,  0.30970254,  0.36957428,  0.01974458,\n",
       "           0.08851751,  0.03122064,  0.28352755,  0.05786247,  0.01629694,\n",
       "           0.33049024,  0.3003274 , -0.43267755,  0.01664441,  0.08603398,\n",
       "           0.11930743, -0.36951554,  0.01824322, -0.29111487,  0.12277064],\n",
       "         [ 0.20314097,  0.17612157,  0.17717815, -0.26859347,  0.30450686,\n",
       "           0.3300822 , -0.15451292, -0.16186747, -0.20694804,  0.29874807,\n",
       "          -0.05108119, -0.03155954,  0.18813699,  0.36502002, -0.40391056,\n",
       "           0.38917035,  0.07857818, -0.30417207,  0.0223338 ,  0.50736796,\n",
       "           0.22836335,  0.21633183, -0.24075947,  0.07197147, -0.50755579,\n",
       "           0.20642385, -0.10065874, -0.23480622,  0.36786903, -0.19873875,\n",
       "          -0.18756078,  0.05307602,  0.08858602, -0.25518448, -0.08428115,\n",
       "           0.13700605,  0.02680641,  0.15127618,  0.15678665,  0.14170467,\n",
       "           0.10610859,  0.07544187, -0.14445215, -0.2118479 , -0.17301667,\n",
       "          -0.03934831, -0.25459238, -0.11380845, -0.10071656, -0.09442649]]), 'b4': array([[-0.0468294 ],\n",
       "         [-0.02546423],\n",
       "         [-0.20147183],\n",
       "         [-0.15432236],\n",
       "         [-0.07670434],\n",
       "         [-0.04933877],\n",
       "         [-0.1022086 ],\n",
       "         [-0.02619733],\n",
       "         [-0.19567021],\n",
       "         [-0.09463123]])})"
      ]
     },
     "execution_count": 22,
     "metadata": {},
     "output_type": "execute_result"
    }
   ],
   "source": [
    "#Call the function ‘grad_descent’ to start the computations of jiggling the parameters.\n",
    "\n",
    "grad_descent(num_iterations, costs, activation)"
   ]
  },
  {
   "cell_type": "code",
   "execution_count": 24,
   "metadata": {},
   "outputs": [
    {
     "name": "stdout",
     "output_type": "stream",
     "text": [
      "[[0. 0. 0. ... 0. 0. 0.]\n",
      " [0. 0. 1. ... 0. 0. 0.]\n",
      " [0. 1. 0. ... 0. 0. 0.]\n",
      " ...\n",
      " [1. 0. 0. ... 0. 0. 0.]\n",
      " [0. 0. 0. ... 0. 0. 0.]\n",
      " [0. 0. 0. ... 0. 0. 0.]]\n"
     ]
    }
   ],
   "source": [
    "def predict(parameters, x_test):\n",
    "    forward_prop(parameters, x_test, activation)\n",
    "    predictions = np.round(activation[\"A4\"])\n",
    "    return predictions\n",
    "predictions = predict(parameters, x_test)\n",
    "\n",
    "print(predictions)"
   ]
  },
  {
   "cell_type": "code",
   "execution_count": 25,
   "metadata": {},
   "outputs": [
    {
     "data": {
      "image/png": "[encoded data removed]",
      "text/plain": [
       "<Figure size 432x288 with 1 Axes>"
      ]
     },
     "metadata": {
      "needs_background": "light"
     },
     "output_type": "display_data"
    }
   ],
   "source": [
    "plt.plot(costs)\n",
    "plt.xlabel('iterations')\n",
    "plt.ylabel('cost')\n",
    "plt.show()"
   ]
  },
  {
   "cell_type": "code",
   "execution_count": null,
   "metadata": {},
   "outputs": [],
   "source": []
  }
 ],
 "metadata": {
  "kernelspec": {
   "display_name": "Python 3",
   "language": "python",
   "name": "python3"
  },
  "language_info": {
   "codemirror_mode": {
    "name": "ipython",
    "version": 3
   },
   "file_extension": ".py",
   "mimetype": "text/x-python",
   "name": "python",
   "nbconvert_exporter": "python",
   "pygments_lexer": "ipython3",
   "version": "3.6.9"
  }
 },
 "nbformat": 4,
 "nbformat_minor": 2
}
