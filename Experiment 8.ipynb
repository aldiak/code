{
 "cells": [
  {
   "cell_type": "code",
   "execution_count": 1,
   "metadata": {},
   "outputs": [],
   "source": [
    "import numpy as np\n",
    "import matplotlib.pyplot as plt"
   ]
  },
  {
   "cell_type": "code",
   "execution_count": 47,
   "metadata": {},
   "outputs": [],
   "source": [
    "sampleNo = 5;"
   ]
  },
  {
   "cell_type": "code",
   "execution_count": 53,
   "metadata": {},
   "outputs": [],
   "source": [
    "s0 = np.array([[-2.25848649,  3.35251005],\n",
    " [-2.99297047,  0.33290089],\n",
    " [-1.43818701,  1.69365499],\n",
    " [-3.05914958, -0.3380505 ],\n",
    " [-2.12484234,  2.14868541],\n",
    " [-0.21047972,  2.30394458],\n",
    " [-3.60356125,  6.22808921],\n",
    " [-0.5165278 ,  1.90740988],\n",
    " [-1.54887737,  1.63762592]])\n",
    "\n",
    "s1 =np.array([[ 2.41281153, -1.02083945],\n",
    " [ 3.87626612, -4.10840219],\n",
    " [ 3.1748448,   1.05400623],\n",
    " [ 2.27211665, -7.10902038],\n",
    " [ 4.30090963,  0.66675487],\n",
    " [ 2.64311209,  4.82250906],\n",
    " [ 1.19556516, -6.17784991],\n",
    " [ 4.20209102, -1.14324642],\n",
    " [ 1.54714445, -2.68912864]])"
   ]
  },
  {
   "cell_type": "code",
   "execution_count": 54,
   "metadata": {},
   "outputs": [
    {
     "data": {
      "text/html": [
       "<div>\n",
       "<style scoped>\n",
       "    .dataframe tbody tr th:only-of-type {\n",
       "        vertical-align: middle;\n",
       "    }\n",
       "\n",
       "    .dataframe tbody tr th {\n",
       "        vertical-align: top;\n",
       "    }\n",
       "\n",
       "    .dataframe thead th {\n",
       "        text-align: right;\n",
       "    }\n",
       "</style>\n",
       "<table border=\"1\" class=\"dataframe\">\n",
       "  <thead>\n",
       "    <tr style=\"text-align: right;\">\n",
       "      <th></th>\n",
       "      <th>x1</th>\n",
       "      <th>x2</th>\n",
       "      <th>y</th>\n",
       "    </tr>\n",
       "  </thead>\n",
       "  <tbody>\n",
       "    <tr>\n",
       "      <th>0</th>\n",
       "      <td>-2.258486</td>\n",
       "      <td>3.352510</td>\n",
       "      <td>1.0</td>\n",
       "    </tr>\n",
       "    <tr>\n",
       "      <th>1</th>\n",
       "      <td>-2.992970</td>\n",
       "      <td>0.332901</td>\n",
       "      <td>1.0</td>\n",
       "    </tr>\n",
       "    <tr>\n",
       "      <th>2</th>\n",
       "      <td>-1.438187</td>\n",
       "      <td>1.693655</td>\n",
       "      <td>1.0</td>\n",
       "    </tr>\n",
       "    <tr>\n",
       "      <th>3</th>\n",
       "      <td>-3.059150</td>\n",
       "      <td>-0.338050</td>\n",
       "      <td>1.0</td>\n",
       "    </tr>\n",
       "    <tr>\n",
       "      <th>4</th>\n",
       "      <td>-2.124842</td>\n",
       "      <td>2.148685</td>\n",
       "      <td>1.0</td>\n",
       "    </tr>\n",
       "    <tr>\n",
       "      <th>5</th>\n",
       "      <td>-0.210480</td>\n",
       "      <td>2.303945</td>\n",
       "      <td>1.0</td>\n",
       "    </tr>\n",
       "    <tr>\n",
       "      <th>6</th>\n",
       "      <td>-3.603561</td>\n",
       "      <td>6.228089</td>\n",
       "      <td>1.0</td>\n",
       "    </tr>\n",
       "    <tr>\n",
       "      <th>7</th>\n",
       "      <td>-0.516528</td>\n",
       "      <td>1.907410</td>\n",
       "      <td>1.0</td>\n",
       "    </tr>\n",
       "    <tr>\n",
       "      <th>8</th>\n",
       "      <td>-1.548877</td>\n",
       "      <td>1.637626</td>\n",
       "      <td>1.0</td>\n",
       "    </tr>\n",
       "    <tr>\n",
       "      <th>9</th>\n",
       "      <td>2.412812</td>\n",
       "      <td>-1.020839</td>\n",
       "      <td>0.0</td>\n",
       "    </tr>\n",
       "    <tr>\n",
       "      <th>10</th>\n",
       "      <td>3.876266</td>\n",
       "      <td>-4.108402</td>\n",
       "      <td>0.0</td>\n",
       "    </tr>\n",
       "    <tr>\n",
       "      <th>11</th>\n",
       "      <td>3.174845</td>\n",
       "      <td>1.054006</td>\n",
       "      <td>0.0</td>\n",
       "    </tr>\n",
       "    <tr>\n",
       "      <th>12</th>\n",
       "      <td>2.272117</td>\n",
       "      <td>-7.109020</td>\n",
       "      <td>0.0</td>\n",
       "    </tr>\n",
       "    <tr>\n",
       "      <th>13</th>\n",
       "      <td>4.300910</td>\n",
       "      <td>0.666755</td>\n",
       "      <td>0.0</td>\n",
       "    </tr>\n",
       "    <tr>\n",
       "      <th>14</th>\n",
       "      <td>2.643112</td>\n",
       "      <td>4.822509</td>\n",
       "      <td>0.0</td>\n",
       "    </tr>\n",
       "    <tr>\n",
       "      <th>15</th>\n",
       "      <td>1.195565</td>\n",
       "      <td>-6.177850</td>\n",
       "      <td>0.0</td>\n",
       "    </tr>\n",
       "    <tr>\n",
       "      <th>16</th>\n",
       "      <td>4.202091</td>\n",
       "      <td>-1.143246</td>\n",
       "      <td>0.0</td>\n",
       "    </tr>\n",
       "    <tr>\n",
       "      <th>17</th>\n",
       "      <td>1.547144</td>\n",
       "      <td>-2.689129</td>\n",
       "      <td>0.0</td>\n",
       "    </tr>\n",
       "  </tbody>\n",
       "</table>\n",
       "</div>"
      ],
      "text/plain": [
       "          x1        x2    y\n",
       "0  -2.258486  3.352510  1.0\n",
       "1  -2.992970  0.332901  1.0\n",
       "2  -1.438187  1.693655  1.0\n",
       "3  -3.059150 -0.338050  1.0\n",
       "4  -2.124842  2.148685  1.0\n",
       "5  -0.210480  2.303945  1.0\n",
       "6  -3.603561  6.228089  1.0\n",
       "7  -0.516528  1.907410  1.0\n",
       "8  -1.548877  1.637626  1.0\n",
       "9   2.412812 -1.020839  0.0\n",
       "10  3.876266 -4.108402  0.0\n",
       "11  3.174845  1.054006  0.0\n",
       "12  2.272117 -7.109020  0.0\n",
       "13  4.300910  0.666755  0.0\n",
       "14  2.643112  4.822509  0.0\n",
       "15  1.195565 -6.177850  0.0\n",
       "16  4.202091 -1.143246  0.0\n",
       "17  1.547144 -2.689129  0.0"
      ]
     },
     "execution_count": 54,
     "metadata": {},
     "output_type": "execute_result"
    }
   ],
   "source": [
    "from pandas import DataFrame\n",
    "if s0.shape[1] == 2:\n",
    "    s0 = np.insert(s0, 2, values=1, axis=1) # Add a column of tag values\n",
    "if s1.shape[1] == 2:\n",
    "    s1 = np.insert(s1, 2, values=0, axis=1) # Add a column of tag values\n",
    "s = np.concatenate((s0,s1),axis=0) # concatenate the two groups\n",
    "df = DataFrame(s, columns=['x1','x2','y'])\n",
    "df"
   ]
  },
  {
   "cell_type": "code",
   "execution_count": 55,
   "metadata": {},
   "outputs": [
    {
     "data": {
      "image/png": "[encoded data removed]",
      "text/plain": [
       "<Figure size 432x288 with 1 Axes>"
      ]
     },
     "metadata": {
      "needs_background": "light"
     },
     "output_type": "display_data"
    }
   ],
   "source": [
    "def sigmoid(z):\n",
    "    return 1 / (1 + np.exp(-z))\n",
    "x = np.arange(-10,10,0.01) \n",
    "plt.plot(x,sigmoid(x)) \n",
    "plt.show()"
   ]
  },
  {
   "cell_type": "code",
   "execution_count": 56,
   "metadata": {},
   "outputs": [
    {
     "name": "stdout",
     "output_type": "stream",
     "text": [
      "epoch: 0\n",
      "w1:-2.00, w2:1.00\n",
      "loss: 0.006508373476459802\n",
      "epoch: 1\n",
      "w1:-2.00, w2:1.00\n",
      "loss: 0.006508373476459802\n"
     ]
    }
   ],
   "source": [
    "w1 = -2\n",
    "w2 = 1\n",
    "b = 0\n",
    "loss = 100000\n",
    "epoch = 0\n",
    "c = 0.001\n",
    "while True:\n",
    "    if(epoch%20==0):\n",
    "        print(\"epoch:\", epoch)\n",
    "        print(\"w1:%.2f, w2:%.2f\"%(w1,w2))\n",
    "    lastloss = loss\n",
    "    loss = 0\n",
    "    partialw1 = 0\n",
    "    partialw2 = 0\n",
    "    for k in range(2*sampleNo):\n",
    "        yhat = sigmoid(w1*s[k,0]+w2*s[k,1]+b)\n",
    "        y = s[k,2]\n",
    "        loss += (yhat-y)*(yhat-y)\n",
    "        partialw1 += 2*(yhat-y)*yhat*(1-yhat)*s[k,0]\n",
    "        partialw2 += 2*(yhat-y)*yhat*(1-yhat)*s[k,1]\n",
    "    if(epoch%100==0):\n",
    "        print(\"loss:\", loss)\n",
    "    if(lastloss<loss):\n",
    "        break\n",
    "    w1 = w1 - 0.1 * partialw1\n",
    "    w2 = w2 - 0.1 * partialw2\n",
    "    epoch = epoch+1\n",
    "    if(epoch>1000):\n",
    "        break\n",
    "    if(loss<0.1):\n",
    "        break\n",
    "    if(lastloss - loss < c):\n",
    "        break\n",
    "print(\"epoch:\", epoch)\n",
    "print(\"w1:%.2f, w2:%.2f\"%(w1,w2))\n",
    "print(\"loss:\", loss)"
   ]
  },
  {
   "cell_type": "markdown",
   "metadata": {},
   "source": [
    "Given a small value we can fix an early stop condition saying that the difference between the lastloss and loss is smaller than that value."
   ]
  },
  {
   "cell_type": "code",
   "execution_count": 57,
   "metadata": {},
   "outputs": [
    {
     "data": {
      "image/png": "[encoded data removed]",
      "text/plain": [
       "<Figure size 432x288 with 1 Axes>"
      ]
     },
     "metadata": {
      "needs_background": "light"
     },
     "output_type": "display_data"
    }
   ],
   "source": [
    "x1 = np.arange(-6,6)\n",
    "x2 = (-w1 * x1 - b)/w2\n",
    "\n",
    "plt.plot(s0[:,0],s0[:,1],'+')\n",
    "plt.plot(s1[:,0],s1[:,1],'o')\n",
    "plt.plot(x1,x2)\n",
    "\n",
    "plt.show()"
   ]
  },
  {
   "cell_type": "code",
   "execution_count": null,
   "metadata": {},
   "outputs": [],
   "source": []
  },
  {
   "cell_type": "code",
   "execution_count": null,
   "metadata": {},
   "outputs": [],
   "source": []
  }
 ],
 "metadata": {
  "kernelspec": {
   "display_name": "Python 3",
   "language": "python",
   "name": "python3"
  },
  "language_info": {
   "codemirror_mode": {
    "name": "ipython",
    "version": 3
   },
   "file_extension": ".py",
   "mimetype": "text/x-python",
   "name": "python",
   "nbconvert_exporter": "python",
   "pygments_lexer": "ipython3",
   "version": "3.6.9"
  }
 },
 "nbformat": 4,
 "nbformat_minor": 2
}
