{
 "cells": [
  {
   "cell_type": "markdown",
   "metadata": {},
   "source": [
    "Write the coordinates of a point by yourself, draw the point with matplotlib, and draw a straight line. Substitute the point coordinate value into the straight line equation to see if it is consistent with the expected"
   ]
  },
  {
   "cell_type": "code",
   "execution_count": 2,
   "metadata": {},
   "outputs": [],
   "source": [
    "import numpy as np\n",
    "from matplotlib import pyplot as plt"
   ]
  },
  {
   "cell_type": "code",
   "execution_count": 3,
   "metadata": {},
   "outputs": [],
   "source": [
    "#each point is length, width, type(0, 1)\n",
    "\n",
    "data = [[1, .5],\n",
    "        ]\n",
    "\n",
    "mystery = [4.5, 1]"
   ]
  },
  {
   "cell_type": "code",
   "execution_count": 6,
   "metadata": {},
   "outputs": [
    {
     "data": {
      "image/png": "[encoded data removed]",
      "text/plain": [
       "<Figure size 432x288 with 1 Axes>"
      ]
     },
     "metadata": {
      "needs_background": "light"
     },
     "output_type": "display_data"
    }
   ],
   "source": [
    "#scatter data\n",
    "w1 = -1\n",
    "w2 = 1\n",
    "b = 1\n",
    "x1 = np.arange(-6,6) \n",
    "x2 = (-w1 * x1 +  b)/w2\n",
    "plt.plot(data[0],'+')\n",
    "\n",
    "plt.axis(\"equal\")\n",
    "plt.axis([-10,10,-10,10])\n",
    "plt.plot(x1,x2) \n",
    "plt.show()"
   ]
  },
  {
   "cell_type": "markdown",
   "metadata": {},
   "source": [
    "The straight line equation here is -x1 + x2 + 1 = 0 so now we will try to show if the substitution of point will give us the result seeing in the class experiment.\n",
    "Here we have 2 points (0, 1) and (1, 0.5). The first point is on the line but It is not satifying the condition given in class which says that the point on the line verify the equation w1*x1 + w2*x2 + b = 0 and also when we substitute the coordinates in the equation we get 2 greater than 0 but the point is not up the line. The second point is bellow the line and the substitution result is greater than 0 so the class experiment condition that says the point bellow the line substitution result is less than 0 is not satified here too."
   ]
  },
  {
   "cell_type": "code",
   "execution_count": 10,
   "metadata": {},
   "outputs": [
    {
     "name": "stdout",
     "output_type": "stream",
     "text": [
      "0.5 \n"
     ]
    }
   ],
   "source": [
    "w1 = -1\n",
    "w2 = 1\n",
    "b = 1\n",
    "\n",
    "for i in range(len(data)):\n",
    "    point = data[i]\n",
    "    print(w1*point[0]+w2*point[1]+b, end=' ')\n",
    "print(\"\")"
   ]
  },
  {
   "cell_type": "code",
   "execution_count": null,
   "metadata": {},
   "outputs": [],
   "source": []
  }
 ],
 "metadata": {
  "kernelspec": {
   "display_name": "Python 3",
   "language": "python",
   "name": "python3"
  },
  "language_info": {
   "codemirror_mode": {
    "name": "ipython",
    "version": 3
   },
   "file_extension": ".py",
   "mimetype": "text/x-python",
   "name": "python",
   "nbconvert_exporter": "python",
   "pygments_lexer": "ipython3",
   "version": "3.6.9"
  }
 },
 "nbformat": 4,
 "nbformat_minor": 2
}
