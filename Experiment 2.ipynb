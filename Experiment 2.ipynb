{
 "cells": [
  {
   "cell_type": "markdown",
   "metadata": {},
   "source": [
    "Here we will change the label 1,0 of the class experiment to 1, -1."
   ]
  },
  {
   "cell_type": "code",
   "execution_count": 1,
   "metadata": {},
   "outputs": [],
   "source": [
    "import numpy as np\n",
    "import matplotlib.pyplot as plt"
   ]
  },
  {
   "cell_type": "markdown",
   "metadata": {},
   "source": [
    "We will generate the data in the same ways we generate it in the class."
   ]
  },
  {
   "cell_type": "code",
   "execution_count": 27,
   "metadata": {},
   "outputs": [],
   "source": [
    "#save s0 and s1 value\n",
    "\n",
    "s0 = np.array([[-1.95748419,  2.07355325],\n",
    "       [ 1.00666192,  2.69711304],\n",
    "       [-1.6958383 ,  1.33105275],\n",
    "       [-1.63761187,  1.88403073],\n",
    "       [-1.9146547 ,  0.88170042],\n",
    "       [-2.83903205,  2.99812548],\n",
    "       [-2.7910601 , -0.7675516 ],\n",
    "       [-2.24209161,  2.33547843],\n",
    "       [-3.27194682,  5.10882815],\n",
    "       [-0.18554467,  1.10001598],\n",
    "       [-3.84436709,  5.05556652],\n",
    "       [-1.08817025,  1.42618049],\n",
    "       [-3.08971107,  1.8935187 ],\n",
    "       [-3.48335218,  0.8163382 ],\n",
    "       [-1.26860726,  2.85611716],\n",
    "       [-2.86478182,  5.21133705],\n",
    "       [-0.66771253, -0.20676348],\n",
    "       [-2.18086106,  0.94383857],\n",
    "       [-1.62318522,  0.34874491],\n",
    "       [-0.40856458,  0.98999912]])\n",
    "s1 = np.array([[ 4.09501223,  0.08324866],\n",
    "       [ 2.58876209, -4.03272451],\n",
    "       [ 2.33847321, -3.99982934],\n",
    "       [ 1.72991822, -3.28512646],\n",
    "       [ 2.35710703,  0.09637543],\n",
    "       [ 1.65073579, -4.48050265],\n",
    "       [ 2.03313207, -1.61729409],\n",
    "       [ 1.71982909, -1.87663809],\n",
    "       [ 1.96355793,  1.62891785],\n",
    "       [ 4.4144021 , -0.02707969],\n",
    "       [ 3.50391877, -0.25692871],\n",
    "       [ 4.11816736, -3.42643588],\n",
    "       [ 3.16865609, -1.00377079],\n",
    "       [ 1.99207762,  1.7294426 ],\n",
    "       [ 4.69419471, -0.34720762],\n",
    "       [ 2.96535344, -0.36183597],\n",
    "       [ 3.31702047, -1.65418167],\n",
    "       [ 1.9486246 , -1.35341524],\n",
    "       [ 1.87297599, -0.57209892],\n",
    "       [ 2.88777949, -1.60450742]])\n"
   ]
  },
  {
   "cell_type": "code",
   "execution_count": 33,
   "metadata": {},
   "outputs": [
    {
     "data": {
      "text/html": [
       "<div>\n",
       "<style scoped>\n",
       "    .dataframe tbody tr th:only-of-type {\n",
       "        vertical-align: middle;\n",
       "    }\n",
       "\n",
       "    .dataframe tbody tr th {\n",
       "        vertical-align: top;\n",
       "    }\n",
       "\n",
       "    .dataframe thead th {\n",
       "        text-align: right;\n",
       "    }\n",
       "</style>\n",
       "<table border=\"1\" class=\"dataframe\">\n",
       "  <thead>\n",
       "    <tr style=\"text-align: right;\">\n",
       "      <th></th>\n",
       "      <th>x1</th>\n",
       "      <th>x2</th>\n",
       "      <th>y</th>\n",
       "    </tr>\n",
       "  </thead>\n",
       "  <tbody>\n",
       "    <tr>\n",
       "      <th>0</th>\n",
       "      <td>-1.957484</td>\n",
       "      <td>2.073553</td>\n",
       "      <td>1.0</td>\n",
       "    </tr>\n",
       "    <tr>\n",
       "      <th>1</th>\n",
       "      <td>1.006662</td>\n",
       "      <td>2.697113</td>\n",
       "      <td>1.0</td>\n",
       "    </tr>\n",
       "    <tr>\n",
       "      <th>2</th>\n",
       "      <td>-1.695838</td>\n",
       "      <td>1.331053</td>\n",
       "      <td>1.0</td>\n",
       "    </tr>\n",
       "    <tr>\n",
       "      <th>3</th>\n",
       "      <td>-1.637612</td>\n",
       "      <td>1.884031</td>\n",
       "      <td>1.0</td>\n",
       "    </tr>\n",
       "    <tr>\n",
       "      <th>4</th>\n",
       "      <td>-1.914655</td>\n",
       "      <td>0.881700</td>\n",
       "      <td>1.0</td>\n",
       "    </tr>\n",
       "    <tr>\n",
       "      <th>5</th>\n",
       "      <td>-2.839032</td>\n",
       "      <td>2.998125</td>\n",
       "      <td>1.0</td>\n",
       "    </tr>\n",
       "    <tr>\n",
       "      <th>6</th>\n",
       "      <td>-2.791060</td>\n",
       "      <td>-0.767552</td>\n",
       "      <td>1.0</td>\n",
       "    </tr>\n",
       "    <tr>\n",
       "      <th>7</th>\n",
       "      <td>-2.242092</td>\n",
       "      <td>2.335478</td>\n",
       "      <td>1.0</td>\n",
       "    </tr>\n",
       "    <tr>\n",
       "      <th>8</th>\n",
       "      <td>-3.271947</td>\n",
       "      <td>5.108828</td>\n",
       "      <td>1.0</td>\n",
       "    </tr>\n",
       "    <tr>\n",
       "      <th>9</th>\n",
       "      <td>-0.185545</td>\n",
       "      <td>1.100016</td>\n",
       "      <td>1.0</td>\n",
       "    </tr>\n",
       "    <tr>\n",
       "      <th>10</th>\n",
       "      <td>-3.844367</td>\n",
       "      <td>5.055567</td>\n",
       "      <td>1.0</td>\n",
       "    </tr>\n",
       "    <tr>\n",
       "      <th>11</th>\n",
       "      <td>-1.088170</td>\n",
       "      <td>1.426180</td>\n",
       "      <td>1.0</td>\n",
       "    </tr>\n",
       "    <tr>\n",
       "      <th>12</th>\n",
       "      <td>-3.089711</td>\n",
       "      <td>1.893519</td>\n",
       "      <td>1.0</td>\n",
       "    </tr>\n",
       "    <tr>\n",
       "      <th>13</th>\n",
       "      <td>-3.483352</td>\n",
       "      <td>0.816338</td>\n",
       "      <td>1.0</td>\n",
       "    </tr>\n",
       "    <tr>\n",
       "      <th>14</th>\n",
       "      <td>-1.268607</td>\n",
       "      <td>2.856117</td>\n",
       "      <td>1.0</td>\n",
       "    </tr>\n",
       "    <tr>\n",
       "      <th>15</th>\n",
       "      <td>-2.864782</td>\n",
       "      <td>5.211337</td>\n",
       "      <td>1.0</td>\n",
       "    </tr>\n",
       "    <tr>\n",
       "      <th>16</th>\n",
       "      <td>-0.667713</td>\n",
       "      <td>-0.206763</td>\n",
       "      <td>1.0</td>\n",
       "    </tr>\n",
       "    <tr>\n",
       "      <th>17</th>\n",
       "      <td>-2.180861</td>\n",
       "      <td>0.943839</td>\n",
       "      <td>1.0</td>\n",
       "    </tr>\n",
       "    <tr>\n",
       "      <th>18</th>\n",
       "      <td>-1.623185</td>\n",
       "      <td>0.348745</td>\n",
       "      <td>1.0</td>\n",
       "    </tr>\n",
       "    <tr>\n",
       "      <th>19</th>\n",
       "      <td>-0.408565</td>\n",
       "      <td>0.989999</td>\n",
       "      <td>1.0</td>\n",
       "    </tr>\n",
       "    <tr>\n",
       "      <th>20</th>\n",
       "      <td>4.095012</td>\n",
       "      <td>0.083249</td>\n",
       "      <td>0.0</td>\n",
       "    </tr>\n",
       "    <tr>\n",
       "      <th>21</th>\n",
       "      <td>2.588762</td>\n",
       "      <td>-4.032725</td>\n",
       "      <td>0.0</td>\n",
       "    </tr>\n",
       "    <tr>\n",
       "      <th>22</th>\n",
       "      <td>2.338473</td>\n",
       "      <td>-3.999829</td>\n",
       "      <td>0.0</td>\n",
       "    </tr>\n",
       "    <tr>\n",
       "      <th>23</th>\n",
       "      <td>1.729918</td>\n",
       "      <td>-3.285126</td>\n",
       "      <td>0.0</td>\n",
       "    </tr>\n",
       "    <tr>\n",
       "      <th>24</th>\n",
       "      <td>2.357107</td>\n",
       "      <td>0.096375</td>\n",
       "      <td>0.0</td>\n",
       "    </tr>\n",
       "    <tr>\n",
       "      <th>25</th>\n",
       "      <td>1.650736</td>\n",
       "      <td>-4.480503</td>\n",
       "      <td>0.0</td>\n",
       "    </tr>\n",
       "    <tr>\n",
       "      <th>26</th>\n",
       "      <td>2.033132</td>\n",
       "      <td>-1.617294</td>\n",
       "      <td>0.0</td>\n",
       "    </tr>\n",
       "    <tr>\n",
       "      <th>27</th>\n",
       "      <td>1.719829</td>\n",
       "      <td>-1.876638</td>\n",
       "      <td>0.0</td>\n",
       "    </tr>\n",
       "    <tr>\n",
       "      <th>28</th>\n",
       "      <td>1.963558</td>\n",
       "      <td>1.628918</td>\n",
       "      <td>0.0</td>\n",
       "    </tr>\n",
       "    <tr>\n",
       "      <th>29</th>\n",
       "      <td>4.414402</td>\n",
       "      <td>-0.027080</td>\n",
       "      <td>0.0</td>\n",
       "    </tr>\n",
       "    <tr>\n",
       "      <th>30</th>\n",
       "      <td>3.503919</td>\n",
       "      <td>-0.256929</td>\n",
       "      <td>0.0</td>\n",
       "    </tr>\n",
       "    <tr>\n",
       "      <th>31</th>\n",
       "      <td>4.118167</td>\n",
       "      <td>-3.426436</td>\n",
       "      <td>0.0</td>\n",
       "    </tr>\n",
       "    <tr>\n",
       "      <th>32</th>\n",
       "      <td>3.168656</td>\n",
       "      <td>-1.003771</td>\n",
       "      <td>0.0</td>\n",
       "    </tr>\n",
       "    <tr>\n",
       "      <th>33</th>\n",
       "      <td>1.992078</td>\n",
       "      <td>1.729443</td>\n",
       "      <td>0.0</td>\n",
       "    </tr>\n",
       "    <tr>\n",
       "      <th>34</th>\n",
       "      <td>4.694195</td>\n",
       "      <td>-0.347208</td>\n",
       "      <td>0.0</td>\n",
       "    </tr>\n",
       "    <tr>\n",
       "      <th>35</th>\n",
       "      <td>2.965353</td>\n",
       "      <td>-0.361836</td>\n",
       "      <td>0.0</td>\n",
       "    </tr>\n",
       "    <tr>\n",
       "      <th>36</th>\n",
       "      <td>3.317020</td>\n",
       "      <td>-1.654182</td>\n",
       "      <td>0.0</td>\n",
       "    </tr>\n",
       "    <tr>\n",
       "      <th>37</th>\n",
       "      <td>1.948625</td>\n",
       "      <td>-1.353415</td>\n",
       "      <td>0.0</td>\n",
       "    </tr>\n",
       "    <tr>\n",
       "      <th>38</th>\n",
       "      <td>1.872976</td>\n",
       "      <td>-0.572099</td>\n",
       "      <td>0.0</td>\n",
       "    </tr>\n",
       "    <tr>\n",
       "      <th>39</th>\n",
       "      <td>2.887779</td>\n",
       "      <td>-1.604507</td>\n",
       "      <td>0.0</td>\n",
       "    </tr>\n",
       "  </tbody>\n",
       "</table>\n",
       "</div>"
      ],
      "text/plain": [
       "          x1        x2    y\n",
       "0  -1.957484  2.073553  1.0\n",
       "1   1.006662  2.697113  1.0\n",
       "2  -1.695838  1.331053  1.0\n",
       "3  -1.637612  1.884031  1.0\n",
       "4  -1.914655  0.881700  1.0\n",
       "5  -2.839032  2.998125  1.0\n",
       "6  -2.791060 -0.767552  1.0\n",
       "7  -2.242092  2.335478  1.0\n",
       "8  -3.271947  5.108828  1.0\n",
       "9  -0.185545  1.100016  1.0\n",
       "10 -3.844367  5.055567  1.0\n",
       "11 -1.088170  1.426180  1.0\n",
       "12 -3.089711  1.893519  1.0\n",
       "13 -3.483352  0.816338  1.0\n",
       "14 -1.268607  2.856117  1.0\n",
       "15 -2.864782  5.211337  1.0\n",
       "16 -0.667713 -0.206763  1.0\n",
       "17 -2.180861  0.943839  1.0\n",
       "18 -1.623185  0.348745  1.0\n",
       "19 -0.408565  0.989999  1.0\n",
       "20  4.095012  0.083249  0.0\n",
       "21  2.588762 -4.032725  0.0\n",
       "22  2.338473 -3.999829  0.0\n",
       "23  1.729918 -3.285126  0.0\n",
       "24  2.357107  0.096375  0.0\n",
       "25  1.650736 -4.480503  0.0\n",
       "26  2.033132 -1.617294  0.0\n",
       "27  1.719829 -1.876638  0.0\n",
       "28  1.963558  1.628918  0.0\n",
       "29  4.414402 -0.027080  0.0\n",
       "30  3.503919 -0.256929  0.0\n",
       "31  4.118167 -3.426436  0.0\n",
       "32  3.168656 -1.003771  0.0\n",
       "33  1.992078  1.729443  0.0\n",
       "34  4.694195 -0.347208  0.0\n",
       "35  2.965353 -0.361836  0.0\n",
       "36  3.317020 -1.654182  0.0\n",
       "37  1.948625 -1.353415  0.0\n",
       "38  1.872976 -0.572099  0.0\n",
       "39  2.887779 -1.604507  0.0"
      ]
     },
     "execution_count": 33,
     "metadata": {},
     "output_type": "execute_result"
    }
   ],
   "source": [
    "from pandas import DataFrame\n",
    "if s0.shape[1] == 2:\n",
    "    s0 = np.insert(s0, 2, values=1, axis=1) # Add a column of tag values\n",
    "if s1.shape[1] == 2:\n",
    "    s1 = np.insert(s1, 2, values=-1, axis=1) # Add a column of tag values\n",
    "s = np.concatenate((s0,s1),axis=0) # concatenate the two groups\n",
    "df = DataFrame(s, columns=['x1','x2','y'])\n",
    "df"
   ]
  },
  {
   "cell_type": "code",
   "execution_count": 34,
   "metadata": {},
   "outputs": [
    {
     "data": {
      "image/png": "[encoded data removed]",
      "text/plain": [
       "<Figure size 432x288 with 1 Axes>"
      ]
     },
     "metadata": {
      "needs_background": "light"
     },
     "output_type": "display_data"
    }
   ],
   "source": [
    "plt.plot(s0[:,0],s0[:,1],'+')\n",
    "plt.plot(s1[:,0],s1[:,1],'o')\n",
    "plt.axis(\"equal\")\n",
    "plt.axis([-10,10,-10,10])\n",
    "plt.show()"
   ]
  },
  {
   "cell_type": "code",
   "execution_count": 35,
   "metadata": {},
   "outputs": [
    {
     "data": {
      "image/png": "[encoded data removed]",
      "text/plain": [
       "<Figure size 432x288 with 1 Axes>"
      ]
     },
     "metadata": {
      "needs_background": "light"
     },
     "output_type": "display_data"
    }
   ],
   "source": [
    "w1 = -2\n",
    "w2 = 1\n",
    "b = 1\n",
    "x1 = np.arange(-6,6) \n",
    "x2 = (-w1 * x1 -  b)/w2\n",
    "plt.plot(s0[:,0],s0[:,1],'+')\n",
    "plt.plot(s1[:,0],s1[:,1],'o')\n",
    "plt.plot(x1,x2) \n",
    "plt.show()"
   ]
  },
  {
   "cell_type": "code",
   "execution_count": 36,
   "metadata": {},
   "outputs": [
    {
     "name": "stdout",
     "output_type": "stream",
     "text": [
      "First group：\n",
      "6.988521629999999 1.6837892 5.72272935 6.1592544700000005 5.71100982 9.67618958 5.8145686 7.8196616500000005 12.652721790000001 2.47110532 13.7443007 4.6025209899999995 9.07294084 8.783042559999998 6.39333168 11.94090069 2.12866158 6.30556069 4.59511535 2.80712828 \n",
      "Second group：\n",
      "-7.106775799999999 -8.21024869 -7.67677576 -5.7449629 -3.6178386299999996 -6.781974229999999 -4.68355823 -4.31629627 -1.2981980100000001 -7.855883890000001 -6.26476625 -10.6627706 -6.3410829699999995 -1.2547126400000002 -8.73559704 -5.29254285 -7.28822261 -4.2506644399999995 -3.3180509000000002 -6.3800664 "
     ]
    }
   ],
   "source": [
    "w1 = -2\n",
    "w2 = 1\n",
    "b = 1\n",
    "print(\"First group：\")\n",
    "for i in range(sampleNo):\n",
    "    print(w1*s0[i,0]+w2*s0[i,1]+b, end=' ')\n",
    "print(\"\")\n",
    "print(\"Second group：\")\n",
    "for i in range(sampleNo):\n",
    "    print(w1*s1[i,0]+w2*s1[i,1]+b, end=' ')"
   ]
  },
  {
   "cell_type": "code",
   "execution_count": 43,
   "metadata": {},
   "outputs": [
    {
     "data": {
      "image/png": "[encoded data removed]",
      "text/plain": [
       "<Figure size 432x288 with 1 Axes>"
      ]
     },
     "metadata": {
      "needs_background": "light"
     },
     "output_type": "display_data"
    }
   ],
   "source": [
    "def sgn(z):\n",
    "    return np.where(z>0,1,-1)\n",
    "\n",
    "x = np.arange(-6,6,0.01) \n",
    "plt.plot(x,sgn(x)) \n",
    "plt.show()"
   ]
  },
  {
   "cell_type": "code",
   "execution_count": 44,
   "metadata": {},
   "outputs": [
    {
     "name": "stdout",
     "output_type": "stream",
     "text": [
      "w1: 0.869196, w2:0.043794, b:0.016159\n"
     ]
    }
   ],
   "source": [
    "#Randomly select w1 , w2 and b\n",
    "\n",
    "w1 = np.random.rand()\n",
    "w2 = np.random.rand()\n",
    "b = np.random.rand()\n",
    "print(\"w1: %f, w2:%f, b:%f\"%(w1,w2,b))"
   ]
  },
  {
   "cell_type": "code",
   "execution_count": 45,
   "metadata": {},
   "outputs": [
    {
     "name": "stdout",
     "output_type": "stream",
     "text": [
      "58.0\n"
     ]
    }
   ],
   "source": [
    "import math\n",
    "loss = 0\n",
    "for i in range(2*sampleNo):\n",
    "    yhat = sgn(w1*s[i,0]+w2*s[i,1]+b)\n",
    "    y = s[i,2]\n",
    "    # print(yhat,y)\n",
    "    loss += math.fabs(yhat-y)\n",
    "print(loss)"
   ]
  },
  {
   "cell_type": "markdown",
   "metadata": {},
   "source": [
    "So we can in the above see code that when we change the label to 1 and -1 the loss is increasing."
   ]
  },
  {
   "cell_type": "code",
   "execution_count": 46,
   "metadata": {},
   "outputs": [
    {
     "data": {
      "image/png": "[encoded data removed]",
      "text/plain": [
       "<Figure size 432x288 with 1 Axes>"
      ]
     },
     "metadata": {
      "needs_background": "light"
     },
     "output_type": "display_data"
    }
   ],
   "source": [
    "x1 = np.arange(-6,6) \n",
    "x2 = (-w1 * x1 -  b)/w2\n",
    "plt.plot(s0[:,0],s0[:,1],'+')\n",
    "plt.plot(s1[:,0],s1[:,1],'o')\n",
    "plt.plot(x1,x2) \n",
    "plt.show()"
   ]
  },
  {
   "cell_type": "code",
   "execution_count": null,
   "metadata": {},
   "outputs": [],
   "source": []
  }
 ],
 "metadata": {
  "kernelspec": {
   "display_name": "Python 3",
   "language": "python",
   "name": "python3"
  },
  "language_info": {
   "codemirror_mode": {
    "name": "ipython",
    "version": 3
   },
   "file_extension": ".py",
   "mimetype": "text/x-python",
   "name": "python",
   "nbconvert_exporter": "python",
   "pygments_lexer": "ipython3",
   "version": "3.6.9"
  }
 },
 "nbformat": 4,
 "nbformat_minor": 2
}
