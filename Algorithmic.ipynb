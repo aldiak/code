{
 "cells": [
  {
   "cell_type": "code",
   "execution_count": 1,
   "metadata": {},
   "outputs": [],
   "source": [
    "import math\n",
    "\n",
    "def karatsuba(x,y):\n",
    "    if x < 10 and y < 10:             # Base case(当x和y保持个位数时)\n",
    "        return x * y\n",
    "    else:\n",
    "        n = max(len(str(x)), len(str(y)))   #   在两个数字中找到最大位数  \n",
    "        m = int(math.ceil(float(n)/2))      #   数字除数\n",
    "    \n",
    "        x_H = int(math.floor(x / 10**m))    #  dividing \"x\" into first half\n",
    "        x_L = int(x % (10**m))              #  dividing \"x\" into second half\n",
    "    \n",
    "        y_H= int(math.floor(y / 10**m))    #  dividing \"y\" into first half\n",
    "        y_L = int(y % (10**m))              #  dividing \"y\" into second half\n",
    "    \n",
    "        S1 = karatsuba(x_H,y_H)            #  first recurrence\n",
    "        S2 = karatsuba(x_L,y_L)            #  second recurrence\n",
    "        S3 = karatsuba(x_H + x_L, y_H + y_L)  #  third recurrence\n",
    "        S4 = S3 - S2 - S1\n",
    "    \n",
    "        return int(S1*(10**(m*2)) + S4*(10**m) + S2)   #  computing and returning the result\n",
    "\n",
    "print(\"result = \",karatsuba(1234, 8765))\n",
    "print(\"result = \",karatsuba(12254, 8766558))\n",
    "print(\"result = \",karatsuba(454544, 44545))"
   ]
  },
  {
   "cell_type": "code",
   "execution_count": null,
   "metadata": {},
   "outputs": [],
   "source": [
    "\n",
    "   "
   ]
  },
  {
   "cell_type": "code",
   "execution_count": null,
   "metadata": {},
   "outputs": [],
   "source": []
  }
 ],
 "metadata": {
  "kernelspec": {
   "display_name": "Python 3",
   "language": "python",
   "name": "python3"
  },
  "language_info": {
   "codemirror_mode": {
    "name": "ipython",
    "version": 3
   },
   "file_extension": ".py",
   "mimetype": "text/x-python",
   "name": "python",
   "nbconvert_exporter": "python",
   "pygments_lexer": "ipython3",
   "version": "3.7.3"
  }
 },
 "nbformat": 4,
 "nbformat_minor": 2
}
